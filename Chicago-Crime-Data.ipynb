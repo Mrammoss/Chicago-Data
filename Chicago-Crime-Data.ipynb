{
 "cells": [
  {
   "cell_type": "code",
   "execution_count": 1,
   "id": "7bb54444-37df-4dae-946d-9db9d2c59490",
   "metadata": {},
   "outputs": [
    {
     "name": "stdout",
     "output_type": "stream",
     "text": [
      "Requirement already satisfied: holidays in c:\\users\\user\\anaconda3\\envs\\dojo-env\\lib\\site-packages (0.25)\n",
      "Requirement already satisfied: korean-lunar-calendar in c:\\users\\user\\anaconda3\\envs\\dojo-env\\lib\\site-packages (from holidays) (0.3.1)\n",
      "Requirement already satisfied: python-dateutil in c:\\users\\user\\anaconda3\\envs\\dojo-env\\lib\\site-packages (from holidays) (2.8.2)\n",
      "Requirement already satisfied: six>=1.5 in c:\\users\\user\\anaconda3\\envs\\dojo-env\\lib\\site-packages (from python-dateutil->holidays) (1.16.0)\n"
     ]
    }
   ],
   "source": [
    "!pip install holidays\n"
   ]
  },
  {
   "cell_type": "code",
   "execution_count": 2,
   "id": "77fa1195-6d20-4773-9ca5-7291e0c3104b",
   "metadata": {},
   "outputs": [],
   "source": [
    "import pandas as pd\n",
    "import seaborn as sns\n",
    "import matplotlib.pyplot as plt\n",
    "import datetime as dt\n",
    "import glob\n",
    "from holidays import country_holidays"
   ]
  },
  {
   "cell_type": "code",
   "execution_count": 3,
   "id": "f023c026-a386-45c6-8c23-9eec3c42e4cb",
   "metadata": {},
   "outputs": [
    {
     "data": {
      "text/plain": [
       "['Data\\\\Chicago-Crime_2001.csv',\n",
       " 'Data\\\\Chicago-Crime_2002.csv',\n",
       " 'Data\\\\Chicago-Crime_2003.csv',\n",
       " 'Data\\\\Chicago-Crime_2004.csv',\n",
       " 'Data\\\\Chicago-Crime_2005.csv',\n",
       " 'Data\\\\Chicago-Crime_2006.csv',\n",
       " 'Data\\\\Chicago-Crime_2007.csv',\n",
       " 'Data\\\\Chicago-Crime_2008.csv',\n",
       " 'Data\\\\Chicago-Crime_2009.csv',\n",
       " 'Data\\\\Chicago-Crime_2010.csv',\n",
       " 'Data\\\\Chicago-Crime_2011.csv',\n",
       " 'Data\\\\Chicago-Crime_2012.csv',\n",
       " 'Data\\\\Chicago-Crime_2013.csv',\n",
       " 'Data\\\\Chicago-Crime_2014.csv',\n",
       " 'Data\\\\Chicago-Crime_2015.csv',\n",
       " 'Data\\\\Chicago-Crime_2016.csv',\n",
       " 'Data\\\\Chicago-Crime_2017.csv',\n",
       " 'Data\\\\Chicago-Crime_2018.csv',\n",
       " 'Data\\\\Chicago-Crime_2019.csv',\n",
       " 'Data\\\\Chicago-Crime_2020.csv',\n",
       " 'Data\\\\Chicago-Crime_2021.csv',\n",
       " 'Data\\\\Chicago-Crime_2022.csv']"
      ]
     },
     "execution_count": 3,
     "metadata": {},
     "output_type": "execute_result"
    }
   ],
   "source": [
    "data = sorted(glob.glob(\"Data/Chicago-Crime_*.csv\"))\n",
    "data\n",
    "                        "
   ]
  },
  {
   "cell_type": "code",
   "execution_count": 4,
   "id": "7b25c217-0bc1-4668-9d25-d092242cda0e",
   "metadata": {},
   "outputs": [],
   "source": [
    "df = pd.concat([pd.read_csv(f) for f in data])"
   ]
  },
  {
   "cell_type": "code",
   "execution_count": 5,
   "id": "42ce8646-811f-4f93-9418-34edc9db82f6",
   "metadata": {},
   "outputs": [
    {
     "data": {
      "text/html": [
       "<div>\n",
       "<style scoped>\n",
       "    .dataframe tbody tr th:only-of-type {\n",
       "        vertical-align: middle;\n",
       "    }\n",
       "\n",
       "    .dataframe tbody tr th {\n",
       "        vertical-align: top;\n",
       "    }\n",
       "\n",
       "    .dataframe thead th {\n",
       "        text-align: right;\n",
       "    }\n",
       "</style>\n",
       "<table border=\"1\" class=\"dataframe\">\n",
       "  <thead>\n",
       "    <tr style=\"text-align: right;\">\n",
       "      <th></th>\n",
       "      <th>ID</th>\n",
       "      <th>Date</th>\n",
       "      <th>Primary Type</th>\n",
       "      <th>Description</th>\n",
       "      <th>Location Description</th>\n",
       "      <th>Arrest</th>\n",
       "      <th>Domestic</th>\n",
       "      <th>Beat</th>\n",
       "      <th>District</th>\n",
       "      <th>Ward</th>\n",
       "      <th>Latitude</th>\n",
       "      <th>Longitude</th>\n",
       "    </tr>\n",
       "  </thead>\n",
       "  <tbody>\n",
       "    <tr>\n",
       "      <th>0</th>\n",
       "      <td>1326041</td>\n",
       "      <td>01/01/2001 01:00:00 AM</td>\n",
       "      <td>BATTERY</td>\n",
       "      <td>SIMPLE</td>\n",
       "      <td>RESIDENCE</td>\n",
       "      <td>False</td>\n",
       "      <td>False</td>\n",
       "      <td>1624</td>\n",
       "      <td>16.0</td>\n",
       "      <td>NaN</td>\n",
       "      <td>41.957850</td>\n",
       "      <td>-87.749185</td>\n",
       "    </tr>\n",
       "    <tr>\n",
       "      <th>1</th>\n",
       "      <td>1319931</td>\n",
       "      <td>01/01/2001 01:00:00 PM</td>\n",
       "      <td>BATTERY</td>\n",
       "      <td>SIMPLE</td>\n",
       "      <td>RESIDENCE</td>\n",
       "      <td>False</td>\n",
       "      <td>True</td>\n",
       "      <td>825</td>\n",
       "      <td>8.0</td>\n",
       "      <td>NaN</td>\n",
       "      <td>41.783892</td>\n",
       "      <td>-87.684841</td>\n",
       "    </tr>\n",
       "    <tr>\n",
       "      <th>2</th>\n",
       "      <td>1324743</td>\n",
       "      <td>01/01/2001 01:00:00 PM</td>\n",
       "      <td>GAMBLING</td>\n",
       "      <td>ILLEGAL ILL LOTTERY</td>\n",
       "      <td>STREET</td>\n",
       "      <td>True</td>\n",
       "      <td>False</td>\n",
       "      <td>313</td>\n",
       "      <td>3.0</td>\n",
       "      <td>NaN</td>\n",
       "      <td>41.780412</td>\n",
       "      <td>-87.611970</td>\n",
       "    </tr>\n",
       "    <tr>\n",
       "      <th>3</th>\n",
       "      <td>1310717</td>\n",
       "      <td>01/01/2001 01:00:00 AM</td>\n",
       "      <td>CRIMINAL DAMAGE</td>\n",
       "      <td>TO VEHICLE</td>\n",
       "      <td>STREET</td>\n",
       "      <td>False</td>\n",
       "      <td>False</td>\n",
       "      <td>2424</td>\n",
       "      <td>24.0</td>\n",
       "      <td>NaN</td>\n",
       "      <td>42.012391</td>\n",
       "      <td>-87.678032</td>\n",
       "    </tr>\n",
       "    <tr>\n",
       "      <th>4</th>\n",
       "      <td>1318099</td>\n",
       "      <td>01/01/2001 01:00:00 AM</td>\n",
       "      <td>BATTERY</td>\n",
       "      <td>SIMPLE</td>\n",
       "      <td>RESIDENCE PORCH/HALLWAY</td>\n",
       "      <td>False</td>\n",
       "      <td>True</td>\n",
       "      <td>214</td>\n",
       "      <td>2.0</td>\n",
       "      <td>NaN</td>\n",
       "      <td>41.819538</td>\n",
       "      <td>-87.620020</td>\n",
       "    </tr>\n",
       "  </tbody>\n",
       "</table>\n",
       "</div>"
      ],
      "text/plain": [
       "        ID                    Date     Primary Type          Description  \\\n",
       "0  1326041  01/01/2001 01:00:00 AM          BATTERY               SIMPLE   \n",
       "1  1319931  01/01/2001 01:00:00 PM          BATTERY               SIMPLE   \n",
       "2  1324743  01/01/2001 01:00:00 PM         GAMBLING  ILLEGAL ILL LOTTERY   \n",
       "3  1310717  01/01/2001 01:00:00 AM  CRIMINAL DAMAGE           TO VEHICLE   \n",
       "4  1318099  01/01/2001 01:00:00 AM          BATTERY               SIMPLE   \n",
       "\n",
       "      Location Description  Arrest  Domestic  Beat  District  Ward   Latitude  \\\n",
       "0                RESIDENCE   False     False  1624      16.0   NaN  41.957850   \n",
       "1                RESIDENCE   False      True   825       8.0   NaN  41.783892   \n",
       "2                   STREET    True     False   313       3.0   NaN  41.780412   \n",
       "3                   STREET   False     False  2424      24.0   NaN  42.012391   \n",
       "4  RESIDENCE PORCH/HALLWAY   False      True   214       2.0   NaN  41.819538   \n",
       "\n",
       "   Longitude  \n",
       "0 -87.749185  \n",
       "1 -87.684841  \n",
       "2 -87.611970  \n",
       "3 -87.678032  \n",
       "4 -87.620020  "
      ]
     },
     "execution_count": 5,
     "metadata": {},
     "output_type": "execute_result"
    }
   ],
   "source": [
    "df.head()"
   ]
  },
  {
   "cell_type": "code",
   "execution_count": 6,
   "id": "8d6c0aff-878f-45fb-afd0-7f65e15ceec9",
   "metadata": {},
   "outputs": [],
   "source": [
    "# df.to_csv('exported_data.csv', index=0)"
   ]
  },
  {
   "cell_type": "code",
   "execution_count": null,
   "id": "61fdc27e-03ab-4a3f-8d46-34f92887d3ef",
   "metadata": {},
   "outputs": [],
   "source": []
  }
 ],
 "metadata": {
  "kernelspec": {
   "display_name": "Python 3 (ipykernel)",
   "language": "python",
   "name": "python3"
  },
  "language_info": {
   "codemirror_mode": {
    "name": "ipython",
    "version": 3
   },
   "file_extension": ".py",
   "mimetype": "text/x-python",
   "name": "python",
   "nbconvert_exporter": "python",
   "pygments_lexer": "ipython3",
   "version": "3.10.10"
  },
  "widgets": {
   "application/vnd.jupyter.widget-state+json": {
    "state": {},
    "version_major": 2,
    "version_minor": 0
   }
  }
 },
 "nbformat": 4,
 "nbformat_minor": 5
}
